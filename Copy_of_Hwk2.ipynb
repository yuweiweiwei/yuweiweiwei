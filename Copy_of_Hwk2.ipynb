{
  "nbformat": 4,
  "nbformat_minor": 0,
  "metadata": {
    "colab": {
      "provenance": [],
      "include_colab_link": true
    },
    "kernelspec": {
      "name": "python3",
      "display_name": "Python 3"
    },
    "language_info": {
      "name": "python"
    }
  },
  "cells": [
    {
      "cell_type": "markdown",
      "metadata": {
        "id": "view-in-github",
        "colab_type": "text"
      },
      "source": [
        "<a href=\"https://colab.research.google.com/github/yuweiweiwei/yuweiweiwei/blob/main/Copy_of_Hwk2.ipynb\" target=\"_parent\"><img src=\"https://colab.research.google.com/assets/colab-badge.svg\" alt=\"Open In Colab\"/></a>"
      ]
    },
    {
      "cell_type": "markdown",
      "source": [
        "# Preliminaries"
      ],
      "metadata": {
        "id": "WU0-rbFogRCb"
      }
    },
    {
      "cell_type": "code",
      "source": [
        "# Import data files from CoLab (if using colab if not skip this step, but make sure the data and this file are int he same directory.\n",
        "from google.colab import drive\n",
        "drive.mount('/content/drive/')\n"
      ],
      "metadata": {
        "id": "kIjiF2YFPpsA"
      },
      "execution_count": null,
      "outputs": []
    },
    {
      "cell_type": "code",
      "source": [
        "cd $REPLACE_WITH_YOUR_PATH$"
      ],
      "metadata": {
        "id": "e3RYXj0aQYhI"
      },
      "execution_count": null,
      "outputs": []
    },
    {
      "cell_type": "markdown",
      "source": [
        "The next thing we need to do is import all the modules and libraries that we need. Don't worry about this for now, we will discuss this later.\n",
        "\n",
        "If you run into errors saying \"module not found\" or something like that, it is likely you haven't installed it. You should google how to use \"pip install\" or \"conda install\" to download packages that you need. The"
      ],
      "metadata": {
        "id": "Qqju3pL2gT0Z"
      }
    },
    {
      "cell_type": "code",
      "source": [
        "import numpy as np\n",
        "import matplotlib.pyplot as plt\n",
        "from astropy.io import fits\n",
        "from astropy.wcs import WCS\n",
        "from astropy.coordinates import SkyCoord\n",
        "import astropy.units as u\n",
        "from matplotlib.colors import LogNorm, PowerNorm, FuncNorm\n",
        "import scipy.interpolate as interp"
      ],
      "metadata": {
        "id": "fpRPpH83f6YC"
      },
      "execution_count": null,
      "outputs": []
    },
    {
      "cell_type": "markdown",
      "source": [
        "# Problem 1"
      ],
      "metadata": {
        "id": "d1rOEz_Ef7Pn"
      }
    },
    {
      "cell_type": "markdown",
      "source": [
        "First we are going to read in a fits file. This file was taken at the Gemini North Telescope using the GMOS-N instrument. This instrument is what is known as an imaging spectrograph."
      ],
      "metadata": {
        "id": "jLfcO3hYf9cl"
      }
    },
    {
      "cell_type": "code",
      "source": [
        "$YOUR_FILE_NAME$ = \"N20240704S0106_image.fits\"  # Change this to your file\n",
        "hdul = fits.open($File_name_here$)\n",
        "image_data = hdul[1].data  # Assuming the image is in the primary HDU\n",
        "hdul.close()"
      ],
      "metadata": {
        "id": "HDn6tQdHjl-E",
        "colab": {
          "base_uri": "https://localhost:8080/",
          "height": 347
        },
        "outputId": "95248bff-076b-43a7-fefe-bc2743bbb088"
      },
      "execution_count": null,
      "outputs": [
        {
          "output_type": "error",
          "ename": "FileNotFoundError",
          "evalue": "[Errno 2] No such file or directory: 'N20240704S0106_image.fits'",
          "traceback": [
            "\u001b[0;31m---------------------------------------------------------------------------\u001b[0m",
            "\u001b[0;31mFileNotFoundError\u001b[0m                         Traceback (most recent call last)",
            "\u001b[0;32m<ipython-input-2-9674895ce791>\u001b[0m in \u001b[0;36m<cell line: 0>\u001b[0;34m()\u001b[0m\n\u001b[1;32m      1\u001b[0m \u001b[0mfits_file\u001b[0m \u001b[0;34m=\u001b[0m \u001b[0;34m\"N20240704S0106_image.fits\"\u001b[0m  \u001b[0;31m# Change this to your file\u001b[0m\u001b[0;34m\u001b[0m\u001b[0;34m\u001b[0m\u001b[0m\n\u001b[0;32m----> 2\u001b[0;31m \u001b[0mhdul\u001b[0m \u001b[0;34m=\u001b[0m \u001b[0mfits\u001b[0m\u001b[0;34m.\u001b[0m\u001b[0mopen\u001b[0m\u001b[0;34m(\u001b[0m\u001b[0mfits_file\u001b[0m\u001b[0;34m)\u001b[0m\u001b[0;34m\u001b[0m\u001b[0;34m\u001b[0m\u001b[0m\n\u001b[0m\u001b[1;32m      3\u001b[0m \u001b[0mimage_data\u001b[0m \u001b[0;34m=\u001b[0m \u001b[0mhdul\u001b[0m\u001b[0;34m[\u001b[0m\u001b[0;36m1\u001b[0m\u001b[0;34m]\u001b[0m\u001b[0;34m.\u001b[0m\u001b[0mdata\u001b[0m  \u001b[0;31m# Assuming the image is in the primary HDU\u001b[0m\u001b[0;34m\u001b[0m\u001b[0;34m\u001b[0m\u001b[0m\n\u001b[1;32m      4\u001b[0m \u001b[0mhdul\u001b[0m\u001b[0;34m.\u001b[0m\u001b[0mclose\u001b[0m\u001b[0;34m(\u001b[0m\u001b[0;34m)\u001b[0m\u001b[0;34m\u001b[0m\u001b[0;34m\u001b[0m\u001b[0m\n",
            "\u001b[0;32m/usr/local/lib/python3.11/dist-packages/astropy/io/fits/hdu/hdulist.py\u001b[0m in \u001b[0;36mfitsopen\u001b[0;34m(name, mode, memmap, save_backup, cache, lazy_load_hdus, ignore_missing_simple, use_fsspec, fsspec_kwargs, decompress_in_memory, **kwargs)\u001b[0m\n\u001b[1;32m    222\u001b[0m         \u001b[0;32mraise\u001b[0m \u001b[0mValueError\u001b[0m\u001b[0;34m(\u001b[0m\u001b[0;34mf\"Empty filename: {name!r}\"\u001b[0m\u001b[0;34m)\u001b[0m\u001b[0;34m\u001b[0m\u001b[0;34m\u001b[0m\u001b[0m\n\u001b[1;32m    223\u001b[0m \u001b[0;34m\u001b[0m\u001b[0m\n\u001b[0;32m--> 224\u001b[0;31m     return HDUList.fromfile(\n\u001b[0m\u001b[1;32m    225\u001b[0m         \u001b[0mname\u001b[0m\u001b[0;34m,\u001b[0m\u001b[0;34m\u001b[0m\u001b[0;34m\u001b[0m\u001b[0m\n\u001b[1;32m    226\u001b[0m         \u001b[0mmode\u001b[0m\u001b[0;34m,\u001b[0m\u001b[0;34m\u001b[0m\u001b[0;34m\u001b[0m\u001b[0m\n",
            "\u001b[0;32m/usr/local/lib/python3.11/dist-packages/astropy/io/fits/hdu/hdulist.py\u001b[0m in \u001b[0;36mfromfile\u001b[0;34m(cls, fileobj, mode, memmap, save_backup, cache, lazy_load_hdus, ignore_missing_simple, **kwargs)\u001b[0m\n\u001b[1;32m    486\u001b[0m         documentation for details of the parameters accepted by this method).\n\u001b[1;32m    487\u001b[0m         \"\"\"\n\u001b[0;32m--> 488\u001b[0;31m         return cls._readfrom(\n\u001b[0m\u001b[1;32m    489\u001b[0m             \u001b[0mfileobj\u001b[0m\u001b[0;34m=\u001b[0m\u001b[0mfileobj\u001b[0m\u001b[0;34m,\u001b[0m\u001b[0;34m\u001b[0m\u001b[0;34m\u001b[0m\u001b[0m\n\u001b[1;32m    490\u001b[0m             \u001b[0mmode\u001b[0m\u001b[0;34m=\u001b[0m\u001b[0mmode\u001b[0m\u001b[0;34m,\u001b[0m\u001b[0;34m\u001b[0m\u001b[0;34m\u001b[0m\u001b[0m\n",
            "\u001b[0;32m/usr/local/lib/python3.11/dist-packages/astropy/io/fits/hdu/hdulist.py\u001b[0m in \u001b[0;36m_readfrom\u001b[0;34m(cls, fileobj, data, mode, memmap, cache, lazy_load_hdus, ignore_missing_simple, use_fsspec, fsspec_kwargs, decompress_in_memory, **kwargs)\u001b[0m\n\u001b[1;32m   1168\u001b[0m             \u001b[0;32mif\u001b[0m \u001b[0;32mnot\u001b[0m \u001b[0misinstance\u001b[0m\u001b[0;34m(\u001b[0m\u001b[0mfileobj\u001b[0m\u001b[0;34m,\u001b[0m \u001b[0m_File\u001b[0m\u001b[0;34m)\u001b[0m\u001b[0;34m:\u001b[0m\u001b[0;34m\u001b[0m\u001b[0;34m\u001b[0m\u001b[0m\n\u001b[1;32m   1169\u001b[0m                 \u001b[0;31m# instantiate a FITS file object (ffo)\u001b[0m\u001b[0;34m\u001b[0m\u001b[0;34m\u001b[0m\u001b[0m\n\u001b[0;32m-> 1170\u001b[0;31m                 fileobj = _File(\n\u001b[0m\u001b[1;32m   1171\u001b[0m                     \u001b[0mfileobj\u001b[0m\u001b[0;34m,\u001b[0m\u001b[0;34m\u001b[0m\u001b[0;34m\u001b[0m\u001b[0m\n\u001b[1;32m   1172\u001b[0m                     \u001b[0mmode\u001b[0m\u001b[0;34m=\u001b[0m\u001b[0mmode\u001b[0m\u001b[0;34m,\u001b[0m\u001b[0;34m\u001b[0m\u001b[0;34m\u001b[0m\u001b[0m\n",
            "\u001b[0;32m/usr/local/lib/python3.11/dist-packages/astropy/io/fits/file.py\u001b[0m in \u001b[0;36m__init__\u001b[0;34m(self, fileobj, mode, memmap, overwrite, cache, use_fsspec, fsspec_kwargs, decompress_in_memory)\u001b[0m\n\u001b[1;32m    216\u001b[0m             \u001b[0mself\u001b[0m\u001b[0;34m.\u001b[0m\u001b[0m_open_fileobj\u001b[0m\u001b[0;34m(\u001b[0m\u001b[0mfileobj\u001b[0m\u001b[0;34m,\u001b[0m \u001b[0mmode\u001b[0m\u001b[0;34m,\u001b[0m \u001b[0moverwrite\u001b[0m\u001b[0;34m)\u001b[0m\u001b[0;34m\u001b[0m\u001b[0;34m\u001b[0m\u001b[0m\n\u001b[1;32m    217\u001b[0m         \u001b[0;32melif\u001b[0m \u001b[0misinstance\u001b[0m\u001b[0;34m(\u001b[0m\u001b[0mfileobj\u001b[0m\u001b[0;34m,\u001b[0m \u001b[0;34m(\u001b[0m\u001b[0mstr\u001b[0m\u001b[0;34m,\u001b[0m \u001b[0mbytes\u001b[0m\u001b[0;34m)\u001b[0m\u001b[0;34m)\u001b[0m\u001b[0;34m:\u001b[0m\u001b[0;34m\u001b[0m\u001b[0;34m\u001b[0m\u001b[0m\n\u001b[0;32m--> 218\u001b[0;31m             \u001b[0mself\u001b[0m\u001b[0;34m.\u001b[0m\u001b[0m_open_filename\u001b[0m\u001b[0;34m(\u001b[0m\u001b[0mfileobj\u001b[0m\u001b[0;34m,\u001b[0m \u001b[0mmode\u001b[0m\u001b[0;34m,\u001b[0m \u001b[0moverwrite\u001b[0m\u001b[0;34m)\u001b[0m\u001b[0;34m\u001b[0m\u001b[0;34m\u001b[0m\u001b[0m\n\u001b[0m\u001b[1;32m    219\u001b[0m         \u001b[0;32melse\u001b[0m\u001b[0;34m:\u001b[0m\u001b[0;34m\u001b[0m\u001b[0;34m\u001b[0m\u001b[0m\n\u001b[1;32m    220\u001b[0m             \u001b[0mself\u001b[0m\u001b[0;34m.\u001b[0m\u001b[0m_open_filelike\u001b[0m\u001b[0;34m(\u001b[0m\u001b[0mfileobj\u001b[0m\u001b[0;34m,\u001b[0m \u001b[0mmode\u001b[0m\u001b[0;34m,\u001b[0m \u001b[0moverwrite\u001b[0m\u001b[0;34m)\u001b[0m\u001b[0;34m\u001b[0m\u001b[0;34m\u001b[0m\u001b[0m\n",
            "\u001b[0;32m/usr/local/lib/python3.11/dist-packages/astropy/io/fits/file.py\u001b[0m in \u001b[0;36m_open_filename\u001b[0;34m(self, filename, mode, overwrite)\u001b[0m\n\u001b[1;32m    649\u001b[0m \u001b[0;34m\u001b[0m\u001b[0m\n\u001b[1;32m    650\u001b[0m         \u001b[0;32mif\u001b[0m \u001b[0;32mnot\u001b[0m \u001b[0mself\u001b[0m\u001b[0;34m.\u001b[0m\u001b[0m_try_read_compressed\u001b[0m\u001b[0;34m(\u001b[0m\u001b[0mself\u001b[0m\u001b[0;34m.\u001b[0m\u001b[0mname\u001b[0m\u001b[0;34m,\u001b[0m \u001b[0mmagic\u001b[0m\u001b[0;34m,\u001b[0m \u001b[0mmode\u001b[0m\u001b[0;34m,\u001b[0m \u001b[0mext\u001b[0m\u001b[0;34m=\u001b[0m\u001b[0mext\u001b[0m\u001b[0;34m)\u001b[0m\u001b[0;34m:\u001b[0m\u001b[0;34m\u001b[0m\u001b[0;34m\u001b[0m\u001b[0m\n\u001b[0;32m--> 651\u001b[0;31m             \u001b[0mself\u001b[0m\u001b[0;34m.\u001b[0m\u001b[0m_file\u001b[0m \u001b[0;34m=\u001b[0m \u001b[0mopen\u001b[0m\u001b[0;34m(\u001b[0m\u001b[0mself\u001b[0m\u001b[0;34m.\u001b[0m\u001b[0mname\u001b[0m\u001b[0;34m,\u001b[0m \u001b[0mIO_FITS_MODES\u001b[0m\u001b[0;34m[\u001b[0m\u001b[0mmode\u001b[0m\u001b[0;34m]\u001b[0m\u001b[0;34m)\u001b[0m\u001b[0;34m\u001b[0m\u001b[0;34m\u001b[0m\u001b[0m\n\u001b[0m\u001b[1;32m    652\u001b[0m             \u001b[0mself\u001b[0m\u001b[0;34m.\u001b[0m\u001b[0mclose_on_error\u001b[0m \u001b[0;34m=\u001b[0m \u001b[0;32mTrue\u001b[0m\u001b[0;34m\u001b[0m\u001b[0;34m\u001b[0m\u001b[0m\n\u001b[1;32m    653\u001b[0m \u001b[0;34m\u001b[0m\u001b[0m\n",
            "\u001b[0;31mFileNotFoundError\u001b[0m: [Errno 2] No such file or directory: 'N20240704S0106_image.fits'"
          ]
        }
      ]
    },
    {
      "cell_type": "markdown",
      "source": [
        "First, display the data. You can do it using the code below OR open it up using JS9. What do you notice?"
      ],
      "metadata": {
        "id": "g7mrdjvFjquw"
      }
    },
    {
      "cell_type": "code",
      "source": [
        "def sinh_norm(image_data, lower_percentile=1, upper_percentile=99):\n",
        "    \"\"\"\n",
        "    Creates a sinh-based normalization function for image scaling.\n",
        "\n",
        "    Parameters:\n",
        "    - image_data (ndarray): 2D array representing the image.\n",
        "    - lower_percentile (float): Lower percentile for contrast scaling (default: 1).\n",
        "    - upper_percentile (float): Upper percentile for contrast scaling (default: 99).\n",
        "\n",
        "    Returns:\n",
        "    - FuncNorm: Normalization function to apply to images.\n",
        "    \"\"\"\n",
        "    # Compute vmin and vmax using percentiles\n",
        "    vmin, vmax = np.percentile(image_data, [lower_percentile, upper_percentile])\n",
        "\n",
        "    # Define sinh scaling functions\n",
        "    def sinh_forward(x):\n",
        "        return np.sinh((x - vmin) / (vmax - vmin))\n",
        "\n",
        "    def sinh_inverse(y):\n",
        "        return vmin + (vmax - vmin) * np.arcsinh(y)\n",
        "\n",
        "    # Return the normalization object\n",
        "    return FuncNorm((sinh_forward, sinh_inverse), vmin=vmin, vmax=vmax)"
      ],
      "metadata": {
        "id": "gT9qZmjFUilr"
      },
      "execution_count": null,
      "outputs": []
    },
    {
      "cell_type": "code",
      "source": [
        "# Assign the normalization to norm\n",
        "norm = sinh_norm(image_data)"
      ],
      "metadata": {
        "id": "s7BHSSYhQmyL"
      },
      "execution_count": null,
      "outputs": []
    },
    {
      "cell_type": "code",
      "source": [
        "plt.imshow(image_data, origin='lower', cmap='gray', norm=norm)\n",
        "plt.colorbar()\n",
        "plt.xlabel('x pix')\n",
        "plt.ylabel('y pix')\n",
        "plt.show()"
      ],
      "metadata": {
        "id": "VHwCsS2Al0iD"
      },
      "execution_count": null,
      "outputs": []
    },
    {
      "cell_type": "markdown",
      "source": [
        "*Insert your notes here*"
      ],
      "metadata": {
        "id": "w6EYs6NLmj_2"
      }
    },
    {
      "cell_type": "markdown",
      "source": [
        "Now, we are going to open the headers and take a look. This image has two headers in particular. The first one is the primary header for the image, and the second is a result from the reduction process. Open them up and have a look. Remember that indexing in python starts at 0, so hdul[0] is the first header. Assign variables and open them up"
      ],
      "metadata": {
        "id": "dY2Ylyrbm8xN"
      }
    },
    {
      "cell_type": "code",
      "source": [
        "$first_header_name$ = hdul[0].header\n",
        "$name_of_second_header$ = hdul[1].header"
      ],
      "metadata": {
        "id": "irfG1bvrm_GS"
      },
      "execution_count": null,
      "outputs": []
    },
    {
      "cell_type": "code",
      "source": [
        "# print the two headers\n",
        "$first_header_name$"
      ],
      "metadata": {
        "id": "YuIjr9fenwQR"
      },
      "execution_count": null,
      "outputs": []
    },
    {
      "cell_type": "code",
      "source": [
        "$second_header_name$"
      ],
      "metadata": {
        "id": "JRxD8lysoOAl"
      },
      "execution_count": null,
      "outputs": []
    },
    {
      "cell_type": "markdown",
      "source": [
        "What kind of data type is the header? (It is not “technically” this type, but it’s close enough)\n",
        "\n",
        "Hint: There is a function you've seen that can tell you this\n",
        "\n",
        "*Your answer here*"
      ],
      "metadata": {
        "id": "Nlb0kUaMoNHu"
      }
    },
    {
      "cell_type": "markdown",
      "source": [
        "What data type is the image data?"
      ],
      "metadata": {
        "id": "nOBNFeBVoePe"
      }
    },
    {
      "cell_type": "markdown",
      "source": [
        "What is the \"target\" of the image? i.e. what was the astronomical object this image was pointed at? Don't just report the result in the header as it is just a name, do some investigating to figure out what specifically this object is."
      ],
      "metadata": {
        "id": "M_w8_MiKo7bm"
      }
    },
    {
      "cell_type": "code",
      "source": [
        "print($your_first_header_name$['OBJECT'])"
      ],
      "metadata": {
        "id": "t18F9auNkwiQ"
      },
      "execution_count": null,
      "outputs": []
    },
    {
      "cell_type": "markdown",
      "source": [
        "*Your answer here*"
      ],
      "metadata": {
        "id": "LraL87Hapo81"
      }
    },
    {
      "cell_type": "markdown",
      "source": [
        "Next, run the following cell to crop to the center of the image. This is where the object is."
      ],
      "metadata": {
        "id": "5PrZ5cRRYWue"
      }
    },
    {
      "cell_type": "code",
      "source": [
        "def crop_by_pixels(ffi, x_center, y_center):\n",
        "  # Define crop parameters\n",
        "  crop_size = 200  # Half of the width/height of the cutout\n",
        "\n",
        "  # Define pixel range for cropping\n",
        "  x_min, x_max = x_center - crop_size, x_center + crop_size\n",
        "  y_min, y_max = y_center - crop_size, y_center + crop_size\n",
        "\n",
        "  # Crop the image\n",
        "  cropped_data = ffi[y_min:y_max, x_min:x_max]\n",
        "\n",
        "  # Plot cropped image\n",
        "  plt.figure(figsize=(6, 6))\n",
        "  plt.imshow(cropped_data, origin='lower', cmap='gray', norm=norm)\n",
        "  plt.colorbar(label=\"Flux\")\n",
        "  plt.title(f\"Cropped Image Centered at ({x_center}, {y_center})\")\n",
        "  plt.show()\n",
        "\n",
        "  return cropped_data"
      ],
      "metadata": {
        "id": "iEgFLe8fSpXq"
      },
      "execution_count": null,
      "outputs": []
    },
    {
      "cell_type": "code",
      "source": [
        "cropped_image = crop_by_pixels($your_image_data$, 1609, 1044)"
      ],
      "metadata": {
        "id": "dyi3n3UQTU2f"
      },
      "execution_count": null,
      "outputs": []
    },
    {
      "cell_type": "markdown",
      "source": [
        "This image is okay, but We should rescale it to get it better looking. Change the percentile values below to find one that you like and run the function that compares both of them side by side."
      ],
      "metadata": {
        "id": "BTykW3wHUAIk"
      }
    },
    {
      "cell_type": "code",
      "source": [
        "new_norm = sinh_norm(cropped_image, lower_percentile=$Your_value_here$, upper_percentile=$Your_value_here$)"
      ],
      "metadata": {
        "id": "YjFPvTt_VBJM"
      },
      "execution_count": null,
      "outputs": []
    },
    {
      "cell_type": "code",
      "source": [
        "def plot_both():\n",
        "  plt.figure(figsize=(12, 6))\n",
        "\n",
        "  plt.subplot(1, 2, 1)\n",
        "  plt.imshow(cropped_image, origin='lower', cmap='gray', norm=norm)\n",
        "  plt.colorbar()\n",
        "  plt.xlabel('x pix')\n",
        "  plt.ylabel('y pix')\n",
        "  plt.title('Original Normalization')\n",
        "\n",
        "  plt.subplot(1, 2, 2)\n",
        "  plt.title('New Normalization')\n",
        "  plt.imshow(cropped_image, origin='lower', cmap='gray', norm=new_norm)\n",
        "  plt.colorbar()\n",
        "  plt.xlabel('x pix')\n",
        "  plt.ylabel('y pix')\n",
        "  plt.show()\n",
        "\n",
        "plot_both()"
      ],
      "metadata": {
        "id": "jJY50K01VPXc"
      },
      "execution_count": null,
      "outputs": []
    },
    {
      "cell_type": "markdown",
      "source": [
        "What do you notice between these two images?\n",
        "\n",
        "*Your answer here*"
      ],
      "metadata": {
        "id": "zL8E9bITXImL"
      }
    },
    {
      "cell_type": "markdown",
      "source": [
        "# Problem 2"
      ],
      "metadata": {
        "id": "M_P8jz83XkKX"
      }
    },
    {
      "cell_type": "markdown",
      "source": [
        "Next we are going to take a look at spectral data. This data set a csv table of solar values taken from https://www.nrel.gov/grid/solar-resource/spectra-astm-e490.html. Read in the csv file and run the given function to plot it."
      ],
      "metadata": {
        "id": "NedvWAONXmdx"
      }
    },
    {
      "cell_type": "code",
      "source": [
        "# Read in solar spectrum using np.gen from text. Specifiy the delimiter as a comma (make sure it's a string), and set skip_header = 1\n",
        "$name_of_Spectrum$ = ..."
      ],
      "metadata": {
        "id": "z9CSQbHRY-9g"
      },
      "execution_count": null,
      "outputs": []
    },
    {
      "cell_type": "markdown",
      "source": [
        "Use the python print function to print the values. Use the original csv file to determine which column is wavelength, and which is the irradiance (irradiance is the recived energy per unit time per unit wavelength, per unit area)."
      ],
      "metadata": {
        "id": "wDAypsVAZU0V"
      }
    },
    {
      "cell_type": "code",
      "source": [
        "print($name_of_Spectrum$)"
      ],
      "metadata": {
        "id": "XRR_SJxRZTg3"
      },
      "execution_count": null,
      "outputs": []
    },
    {
      "cell_type": "markdown",
      "source": [
        "assign a column to either wavelength or irradiance and comment what the units are"
      ],
      "metadata": {
        "id": "hYaCpUfhaIEq"
      }
    },
    {
      "cell_type": "code",
      "source": [
        "wl = $name_of_Spectrum$[:, 0] # units?\n",
        "irrad = $name_of_Spectrum$[:, 1] # units?"
      ],
      "metadata": {
        "id": "sRERqcS2aG-7"
      },
      "execution_count": null,
      "outputs": []
    },
    {
      "cell_type": "code",
      "source": [
        "# Plot the results\n",
        "plt.figure(figsize=(10, 6))\n",
        "plt.plot(wl, irrad, linestyle='-', color='b')\n",
        "plt.xscale('log')\n",
        "plt.xlabel('Wavelength $Units?$')\n",
        "plt.ylabel('Irradiance $units?')\n",
        "plt.title('Solar Spectrum')\n",
        "plt.xlim(min(wl),1e1) # limit between 0.1 and 1 micron\n",
        "plt.grid(True)\n",
        "plt.show()"
      ],
      "metadata": {
        "id": "uTKvQnXe7F70"
      },
      "execution_count": null,
      "outputs": []
    },
    {
      "cell_type": "markdown",
      "source": [
        "Here is a \"cropped\" version of the spectra that spans from the optical into the near-IR. What are some things that you notice about the spectrum?\n",
        "\n",
        "*your answer here*"
      ],
      "metadata": {
        "id": "k4gNIvHRcDPY"
      }
    },
    {
      "cell_type": "markdown",
      "source": [
        "There is an important thing to note here. These values are resentative at the top of the atmosphere. So, imagine we are trying to observe the sun in the optical regime. What kind of flux (irradiance) might we expect to our instrument? Let's find out"
      ],
      "metadata": {
        "id": "WGnvFYWiccuZ"
      }
    },
    {
      "cell_type": "markdown",
      "source": [
        "You might remember instruments use filters to limit the wavelengths that we observe. Read in the filter transmission file and let's discuss what is going on. This is the transmission profile from the g_high filter on VLT/FORS (https://www.eso.org/sci/facilities/paranal/instruments/fors/inst/Filters/curves.html).  The g high filter is a wide band optical filter"
      ],
      "metadata": {
        "id": "vVINUfxNdW6-"
      }
    },
    {
      "cell_type": "code",
      "source": [
        "filter_trans = np.genfromtxt('g_HIGH.txt', skip_header=2)"
      ],
      "metadata": {
        "id": "Se2rdIYcccKe"
      },
      "execution_count": null,
      "outputs": []
    },
    {
      "cell_type": "code",
      "source": [
        "filter_wl = filter_trans[:, $which_column_is_wl$]\n",
        "filter_trans = filter_trans[:, $which_column_is_transmission$]"
      ],
      "metadata": {
        "id": "xtj07E2ad2oM"
      },
      "execution_count": null,
      "outputs": []
    },
    {
      "cell_type": "code",
      "source": [
        "# For some reason the values are all reversed so we must correct that\n",
        "filter_wl = filter_wl[::-1]\n",
        "filter_trans = filter_trans[::-1]"
      ],
      "metadata": {
        "id": "HsSwYx_vQ0Sw"
      },
      "execution_count": null,
      "outputs": []
    },
    {
      "cell_type": "code",
      "source": [
        "plt.figure(figsize=(10, 6))\n",
        "plt.plot(filter_wl, filter_trans, linestyle='-', color='b')\n",
        "plt.xlabel('Wavelength [nm]')\n",
        "plt.ylabel('% Transmission')\n",
        "plt.title('g high Filter Transmission')\n",
        "plt.grid(True)\n",
        "plt.show()"
      ],
      "metadata": {
        "id": "oyjPrTjyefS_"
      },
      "execution_count": null,
      "outputs": []
    },
    {
      "cell_type": "markdown",
      "source": [
        "Okay, so we see that the transmission (or the percent of light that is let through) is somewhere between 375 and 575 nm. What we want to do is see how much light from the solar spectrum makes it past the filter."
      ],
      "metadata": {
        "id": "jwYdn5J6cNzj"
      }
    },
    {
      "cell_type": "markdown",
      "source": [
        "A couple of technicalities here. This transmission plot is in percent transmission. The first thing we want to do is normalize it between 0 and 1. Do that below and replot to verify you did it correctly. The graph should look exactly the same except with transmission values between 0 and 1."
      ],
      "metadata": {
        "id": "29uDR7LwIft9"
      }
    },
    {
      "cell_type": "code",
      "source": [
        "# Normalize your values of transmission between 0 and 1. Remember filter transmission is an array\n",
        "$Your_code_here$"
      ],
      "metadata": {
        "id": "XetQerb5cAy6"
      },
      "execution_count": null,
      "outputs": []
    },
    {
      "cell_type": "code",
      "source": [
        "#Add your normalized array name where it says $normalized_array$\n",
        "plt.figure(figsize=(10, 6))\n",
        "plt.plot(filter_wl, $normalized_array$, linestyle='-', color='b')\n",
        "plt.xlabel('Wavelength [nm]')\n",
        "plt.ylabel('% Transmission')\n",
        "plt.title('g high Filter Transmission')\n",
        "plt.grid(True)\n",
        "plt.show()"
      ],
      "metadata": {
        "id": "OuONufYxI6DX"
      },
      "execution_count": null,
      "outputs": []
    },
    {
      "cell_type": "markdown",
      "source": [
        "The next thing we need to take care of is the issue of matching wavelengths. You can either choose to convert the transmission wavelengths into microns to match the spectra or vice versa. We're going to choose that way because the resolution of the transmission data is higher and you will achieve more acurate results when interpolating the filter onto the spectra - this is the kind of decisions you will need to make yourself later on down the line as an astronomer (or data scientist in general)."
      ],
      "metadata": {
        "id": "tu6Q2wUKJgWb"
      }
    },
    {
      "cell_type": "code",
      "source": [
        "# First get the units to match (nm -> microns)\n",
        "filter_wl = $convert_the_wavelengths_using_a_conversion_factor$"
      ],
      "metadata": {
        "id": "cJYUz6o-LWoq"
      },
      "execution_count": null,
      "outputs": []
    },
    {
      "cell_type": "code",
      "source": [
        "# Replot\n",
        "plt.figure(figsize=(10, 6))\n",
        "plt.plot(filter_wl, filter_trans, linestyle='-', color='b')\n",
        "plt.xlabel('Wavelength [microns]')\n",
        "plt.ylabel('% Transmission')\n",
        "plt.title('g high Filter Transmission')\n",
        "plt.grid()\n"
      ],
      "metadata": {
        "id": "EsLoeP4qLjJM"
      },
      "execution_count": null,
      "outputs": []
    },
    {
      "cell_type": "code",
      "source": [
        "# Find the minimum value of the transmission filter wavelengths and the spectrum wl\n",
        "print(min(filter_wl))\n",
        "print(min(wl))"
      ],
      "metadata": {
        "id": "8LJs0ZUSKbam"
      },
      "execution_count": null,
      "outputs": []
    },
    {
      "cell_type": "markdown",
      "source": [
        "Which should we use as the start for the matching region?"
      ],
      "metadata": {
        "id": "OBaFS8fhLDoM"
      }
    },
    {
      "cell_type": "code",
      "source": [
        "# Set boundaries\n",
        "min_wl = min($filter_wavelength_or_spectra_wl?) # microns\n",
        "max_wl = 1  # microns"
      ],
      "metadata": {
        "id": "Q4NFgLTgKyjq"
      },
      "execution_count": null,
      "outputs": []
    },
    {
      "cell_type": "code",
      "source": [
        "# Check that values are expected\n",
        "min_wl, max_wl"
      ],
      "metadata": {
        "id": "pV_PV3ZGPGQE"
      },
      "execution_count": null,
      "outputs": []
    },
    {
      "cell_type": "code",
      "source": [
        "# You can just run this.\n",
        "def filter_wavelength_range(spectrum_wavelengths, spectrum_values,\n",
        "                            filter_wavelengths, filter_values,\n",
        "                            wavelength_min, wavelength_max):\n",
        "    \"\"\"\n",
        "    Keeps only the wavelengths and values that fall within the specified range.\n",
        "\n",
        "    Parameters:\n",
        "    - spectrum_wavelengths (ndarray): Wavelengths of the spectrum.\n",
        "    - spectrum_values (ndarray): Corresponding values (flux, intensity, etc.) of the spectrum.\n",
        "    - filter_wavelengths (ndarray): Wavelengths of the transmission curve.\n",
        "    - filter_values (ndarray): Corresponding transmission values.\n",
        "    - wavelength_min (float): Minimum wavelength to keep.\n",
        "    - wavelength_max (float): Maximum wavelength to keep.\n",
        "\n",
        "    Returns:\n",
        "    - filtered_spectrum_wavelengths (ndarray): Spectrum wavelengths within range.\n",
        "    - filtered_spectrum_values (ndarray): Spectrum values within range.\n",
        "    - filtered_filter_wavelengths (ndarray): Transmission wavelengths within range.\n",
        "    - filtered_filter_values (ndarray): Transmission values within range.\n",
        "    \"\"\"\n",
        "\n",
        "    # Mask spectrum data\n",
        "    spectrum_mask = (spectrum_wavelengths >= wavelength_min) & (spectrum_wavelengths <= wavelength_max)\n",
        "    filtered_spectrum_wavelengths = spectrum_wavelengths[spectrum_mask]\n",
        "    filtered_spectrum_values = spectrum_values[spectrum_mask]\n",
        "\n",
        "    # Mask filter data\n",
        "    filter_mask = (filter_wavelengths >= wavelength_min) & (filter_wavelengths <= wavelength_max)\n",
        "    filtered_filter_wavelengths = filter_wavelengths[filter_mask]\n",
        "    filtered_filter_values = filter_values[filter_mask]\n",
        "\n",
        "    return (filtered_spectrum_wavelengths, filtered_spectrum_values,\n",
        "            filtered_filter_wavelengths, filtered_filter_values)"
      ],
      "metadata": {
        "id": "NZR-N6JyOvwH"
      },
      "execution_count": null,
      "outputs": []
    },
    {
      "cell_type": "code",
      "source": [
        "cropped_wl, cropped_irrad, filter_wl, filter_trans = filter_wavelength_range(wl, irrad, filter_wl, filter_trans, min_wl, max_wl)"
      ],
      "metadata": {
        "id": "GupiqUgSOvyQ"
      },
      "execution_count": null,
      "outputs": []
    },
    {
      "cell_type": "code",
      "source": [
        "len(cropped_wl), len(cropped_irrad), len(filter_wl), len(filter_trans)"
      ],
      "metadata": {
        "id": "q6TLxfx0Ov0R"
      },
      "execution_count": null,
      "outputs": []
    },
    {
      "cell_type": "code",
      "source": [
        "# Interpolate filter trans on cropped_wl\n",
        "def interpolate_transmission(spectrum_wavelengths, filter_wavelengths, filter_transmission, method='linear'):\n",
        "  interp_func = interp.interp1d(filter_wavelengths, filter_transmission, kind=method, bounds_error=False, fill_value=0)\n",
        "  interpolated_transmission = interp_func(spectrum_wavelengths)\n",
        "  return interpolated_transmission"
      ],
      "metadata": {
        "id": "aMxHotX2Ov2S"
      },
      "execution_count": null,
      "outputs": []
    },
    {
      "cell_type": "code",
      "source": [
        "interpolated_transmission = interpolate_transmission(cropped_wl, filter_wl, filter_trans)"
      ],
      "metadata": {
        "id": "5aD5qIN5Rx0t"
      },
      "execution_count": null,
      "outputs": []
    },
    {
      "cell_type": "code",
      "source": [
        "# Plot the interpolated_transmission\n",
        "plt.figure(figsize=(10, 6))\n",
        "plt.plot(cropped_wl, interpolated_transmission, linestyle='-', color='b')\n",
        "plt.xlabel('Wavelength [microns]')\n",
        "plt.ylabel('Transmission')\n",
        "plt.title('g high Filter Interpolated Transmission')\n",
        "plt.grid(True)\n",
        "plt.show()"
      ],
      "metadata": {
        "id": "lZefxrInOv4E"
      },
      "execution_count": null,
      "outputs": []
    },
    {
      "cell_type": "markdown",
      "source": [
        "Now, the easiest thing to do is to multiply our irradiance by the transmission to get the flux AFTER the filter. Remember these are arrays and python does element-wise multiplication by default."
      ],
      "metadata": {
        "id": "k-VADbFiSUXx"
      }
    },
    {
      "cell_type": "code",
      "source": [
        "filtered_spec = $your_code_here$"
      ],
      "metadata": {
        "id": "V_i457QUSTpo"
      },
      "execution_count": null,
      "outputs": []
    },
    {
      "cell_type": "markdown",
      "source": [
        "Now, plot the filtered spectrum against the original spectrum. What do you notice?"
      ],
      "metadata": {
        "id": "_go5fEfKSyAx"
      }
    },
    {
      "cell_type": "code",
      "source": [
        "plt.figure(figsize=(10, 6))\n",
        "plt.plot(cropped_wl, filtered_spec, ls='-', c='b', label='filtered')\n",
        "plt.plot(wl, irrad, ls = '-', c='r', label='original')\n",
        "plt.xlim(min_wl, max_wl)\n",
        "plt.xlabel('Wavelength [microns]')\n",
        "plt.ylabel('Irradiance (W/m^2/micron)')\n",
        "plt.title('Solar Spectrum after g HIGH Filter')\n",
        "plt.grid(True)\n",
        "plt.legend()\n",
        "plt.show()"
      ],
      "metadata": {
        "id": "LD3gVZU1SxeZ"
      },
      "execution_count": null,
      "outputs": []
    },
    {
      "cell_type": "markdown",
      "source": [
        "Typical spectrograph+telecope optics efficiencies are about 50%. Scale the filtered result to obtain a spectrum after the optical train. Use the code to plot all three curves and comment on how this might relate to why we want larger telescopes."
      ],
      "metadata": {
        "id": "Y3BpEAKWTko_"
      }
    },
    {
      "cell_type": "code",
      "source": [
        "final_spec = $your_code_here$"
      ],
      "metadata": {
        "id": "NAzgrdBhOv5k"
      },
      "execution_count": null,
      "outputs": []
    },
    {
      "cell_type": "code",
      "source": [
        "plt.figure(figsize=(10, 6))\n",
        "plt.plot(cropped_wl, final_spec, ls='-', c='m', label='final')\n",
        "plt.plot(cropped_wl, filtered_spec, ls='-', c='b', label='filtered')\n",
        "plt.plot(wl, irrad, ls = '-', c='r', label='original')\n",
        "plt.xlim(min_wl, max_wl)\n",
        "plt.xlabel('Wavelength [microns]')\n",
        "plt.ylabel('Irradiance (W/m^2/micron)')\n",
        "plt.title('Solar Spectrum after g HIGH Filter')\n",
        "plt.grid(True)\n",
        "plt.legend()\n",
        "plt.show()"
      ],
      "metadata": {
        "id": "K_mZQimTUj4U"
      },
      "execution_count": null,
      "outputs": []
    },
    {
      "cell_type": "markdown",
      "source": [
        "*your answer here*"
      ],
      "metadata": {
        "id": "cRKvbr8Z-PM4"
      }
    }
  ]
}